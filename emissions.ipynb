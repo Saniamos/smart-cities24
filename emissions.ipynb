{
 "cells": [
  {
   "cell_type": "markdown",
   "metadata": {},
   "source": [
    "# Emissions overview"
   ]
  },
  {
   "cell_type": "code",
   "execution_count": 1,
   "metadata": {},
   "outputs": [
    {
     "name": "stdout",
     "output_type": "stream",
     "text": [
      "Run at: 12.04.2024 17:02:49\n"
     ]
    }
   ],
   "source": [
    "from datetime import datetime\n",
    "print(\"Run at:\", datetime.now().strftime(\"%d.%m.%Y %H:%M:%S\"))"
   ]
  },
  {
   "cell_type": "code",
   "execution_count": 2,
   "metadata": {
    "pycharm": {
     "name": "#%%\n"
    }
   },
   "outputs": [],
   "source": [
    "import pandas as pd"
   ]
  },
  {
   "cell_type": "code",
   "execution_count": 6,
   "metadata": {},
   "outputs": [
    {
     "data": {
      "text/html": [
       "<div>\n",
       "<style scoped>\n",
       "    .dataframe tbody tr th:only-of-type {\n",
       "        vertical-align: middle;\n",
       "    }\n",
       "\n",
       "    .dataframe tbody tr th {\n",
       "        vertical-align: top;\n",
       "    }\n",
       "\n",
       "    .dataframe thead th {\n",
       "        text-align: right;\n",
       "    }\n",
       "</style>\n",
       "<table border=\"1\" class=\"dataframe\">\n",
       "  <thead>\n",
       "    <tr style=\"text-align: right;\">\n",
       "      <th></th>\n",
       "      <th>timestamp</th>\n",
       "      <th>duration</th>\n",
       "      <th>emissions</th>\n",
       "      <th>energy_consumed</th>\n",
       "      <th>tracking_mode</th>\n",
       "    </tr>\n",
       "  </thead>\n",
       "  <tbody>\n",
       "    <tr>\n",
       "      <th>0</th>\n",
       "      <td>2024-04-12T17:02:52</td>\n",
       "      <td>0.007350</td>\n",
       "      <td>6.905001e-08</td>\n",
       "      <td>1.791696e-07</td>\n",
       "      <td>machine</td>\n",
       "    </tr>\n",
       "    <tr>\n",
       "      <th>1</th>\n",
       "      <td>2024-04-12T16:55:15</td>\n",
       "      <td>7.108983</td>\n",
       "      <td>1.440182e-04</td>\n",
       "      <td>3.736956e-04</td>\n",
       "      <td>machine</td>\n",
       "    </tr>\n",
       "    <tr>\n",
       "      <th>2</th>\n",
       "      <td>2024-04-12T16:56:49</td>\n",
       "      <td>56.706324</td>\n",
       "      <td>2.032639e-03</td>\n",
       "      <td>5.274253e-03</td>\n",
       "      <td>machine</td>\n",
       "    </tr>\n",
       "    <tr>\n",
       "      <th>3</th>\n",
       "      <td>2024-04-12T17:03:01</td>\n",
       "      <td>103.863436</td>\n",
       "      <td>3.845424e-03</td>\n",
       "      <td>9.978033e-03</td>\n",
       "      <td>machine</td>\n",
       "    </tr>\n",
       "  </tbody>\n",
       "</table>\n",
       "</div>"
      ],
      "text/plain": [
       "             timestamp    duration     emissions  energy_consumed  \\\n",
       "0  2024-04-12T17:02:52    0.007350  6.905001e-08     1.791696e-07   \n",
       "1  2024-04-12T16:55:15    7.108983  1.440182e-04     3.736956e-04   \n",
       "2  2024-04-12T16:56:49   56.706324  2.032639e-03     5.274253e-03   \n",
       "3  2024-04-12T17:03:01  103.863436  3.845424e-03     9.978033e-03   \n",
       "\n",
       "  tracking_mode  \n",
       "0       machine  \n",
       "1       machine  \n",
       "2       machine  \n",
       "3       machine  "
      ]
     },
     "execution_count": 6,
     "metadata": {},
     "output_type": "execute_result"
    }
   ],
   "source": [
    "pd.read_csv('emissions.csv')[['timestamp', 'duration', 'emissions', 'energy_consumed', 'tracking_mode']]"
   ]
  }
 ],
 "metadata": {
  "kernelspec": {
   "display_name": "Python 3 (ipykernel)",
   "language": "python",
   "name": "python3"
  },
  "language_info": {
   "codemirror_mode": {
    "name": "ipython",
    "version": 3
   },
   "file_extension": ".py",
   "mimetype": "text/x-python",
   "name": "python",
   "nbconvert_exporter": "python",
   "pygments_lexer": "ipython3",
   "version": "3.10.13"
  }
 },
 "nbformat": 4,
 "nbformat_minor": 1
}
