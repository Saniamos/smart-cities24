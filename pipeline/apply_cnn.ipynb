{
 "cells": [
  {
   "cell_type": "markdown",
   "metadata": {},
   "source": [
    "# Apply CNN and save skeletons as parquet files"
   ]
  },
  {
   "cell_type": "code",
   "execution_count": 1,
   "metadata": {},
   "outputs": [
    {
     "name": "stdout",
     "output_type": "stream",
     "text": [
      "Run at: 15.04.2024 06:34:32\n"
     ]
    }
   ],
   "source": [
    "from datetime import datetime\n",
    "now = datetime.now()\n",
    "dt_string = now.strftime(\"%d.%m.%Y %H:%M:%S\")\n",
    "print(\"Run at:\", dt_string)"
   ]
  },
  {
   "cell_type": "code",
   "execution_count": 2,
   "metadata": {
    "pycharm": {
     "name": "#%%\n"
    }
   },
   "outputs": [
    {
     "name": "stderr",
     "output_type": "stream",
     "text": [
      "/home/yale1/miniconda3/envs/smart-cities/lib/python3.10/site-packages/tqdm/auto.py:21: TqdmWarning: IProgress not found. Please update jupyter and ipywidgets. See https://ipywidgets.readthedocs.io/en/stable/user_install.html\n",
      "  from .autonotebook import tqdm as notebook_tqdm\n"
     ]
    }
   ],
   "source": [
    "# Enable interactive plot\n",
    "#@formatter:off\n",
    "%matplotlib inline\n",
    "%load_ext autoreload\n",
    "%autoreload 2\n",
    "#@formatter:on\n",
    "\n",
    "import pandas as pd\n",
    "\n",
    "import torch\n",
    "from datasets.RSO_LModule import RSO_LModule\n",
    "from torch.utils.data import DataLoader, ConcatDataset\n",
    "\n",
    "import lightning as pl\n",
    "\n",
    "from pathlib import Path\n",
    "import importlib\n",
    "\n",
    "from run import path_resolution, extract_pred"
   ]
  },
  {
   "cell_type": "code",
   "execution_count": 3,
   "metadata": {
    "tags": [
     "parameters"
    ]
   },
   "outputs": [],
   "source": [
    "debug = False\n",
    "dry_run = False\n",
    "num_worker = 5\n",
    "computease = False\n",
    "\n",
    "SAMPLE_RATE = 30.0\n",
    "plot_length = int(SAMPLE_RATE * 30) # ie half a minute\n",
    "\n",
    "# lib = \"OwnBaselineCNN\"\n",
    "# lib = \"CNNModel_LiChan2014\"\n",
    "# lib = \"CNNModel_LiChan2014_AvgPool\"\n",
    "lib = \"ResNet50_SunShangetAl\"\n",
    "# params = \"hp_default\"\n",
    "# params = \"hp_l1_loss\"\n",
    "params = \"hp_dropna\""
   ]
  },
  {
   "cell_type": "code",
   "execution_count": 4,
   "metadata": {},
   "outputs": [
    {
     "name": "stdout",
     "output_type": "stream",
     "text": [
      " -- rsync --\n",
      "Calling: rsync -av /share/temp/yhartmann/smart-cities-journal-based-on-jonahs-ma/data/ /home/yale1/ma-jonah-data/\n",
      "sending incremental file list\n",
      "\n",
      "sent 2,949 bytes  received 31 bytes  5,960.00 bytes/sec\n",
      "total size is 20,378,829,669  speedup is 6,838,533.45\n",
      " -- rsync finished --\n",
      "\n",
      "Base path: /home/yale1/ma-jonah-data/\n"
     ]
    }
   ],
   "source": [
    "# path resolution\n",
    "base_path = path_resolution()"
   ]
  },
  {
   "cell_type": "code",
   "execution_count": 5,
   "metadata": {},
   "outputs": [
    {
     "name": "stdout",
     "output_type": "stream",
     "text": [
      "model_checkpoint_path: /share/temp/yhartmann/smart-cities-journal-based-on-jonahs-ma/pipeline/checkpoints/ResNet50_SunShangetAl.hp_dropna.ckpt\n"
     ]
    }
   ],
   "source": [
    "# resolve checkpoints\n",
    "checkpoint_path = Path(f\"./checkpoints/\").resolve()\n",
    "checkpoint_path.mkdir(parents=True, exist_ok=True)\n",
    "model_checkpoint_path = f\"{str(checkpoint_path / lib)}.{params}.ckpt\"\n",
    "print(f\"model_checkpoint_path: {model_checkpoint_path}\")"
   ]
  },
  {
   "cell_type": "markdown",
   "metadata": {
    "pycharm": {
     "name": "#%% md\n"
    }
   },
   "source": [
    "# Load model"
   ]
  },
  {
   "cell_type": "code",
   "execution_count": 6,
   "metadata": {},
   "outputs": [
    {
     "name": "stdout",
     "output_type": "stream",
     "text": [
      "2024-04-15 06:34:37,325 - torch.distributed.nn.jit.instantiator - INFO - Created a temporary directory at /tmp/tmprxj1rw79\n",
      "2024-04-15 06:34:37,329 - torch.distributed.nn.jit.instantiator - INFO - Writing /tmp/tmprxj1rw79/_remote_module_non_scriptable.py\n"
     ]
    },
    {
     "name": "stderr",
     "output_type": "stream",
     "text": [
      "/home/yale1/miniconda3/envs/smart-cities/lib/python3.10/site-packages/lightning/pytorch/utilities/parsing.py:199: Attribute 'loss_function' is an instance of `nn.Module` and is already saved during checkpointing. It is recommended to ignore them using `self.save_hyperparameters(ignore=['loss_function'])`.\n"
     ]
    }
   ],
   "source": [
    "NNModule = importlib.import_module(f\"models.{lib}\")\n",
    "model = NNModule.NeuralNetwork.load_from_checkpoint(checkpoint_path=model_checkpoint_path)\n",
    "hyper_params = getattr(NNModule, params)\n",
    "hyper_params['trainer_params']['devices'] = 1"
   ]
  },
  {
   "cell_type": "code",
   "execution_count": 7,
   "metadata": {},
   "outputs": [
    {
     "data": {
      "text/plain": [
       "{'loss_function': L1Loss(),\n",
       " 'optimizer': torch.optim.adam.Adam,\n",
       " 'data_params': {'shuffle': True, 'batch_size': 46, 'fix_nan': True},\n",
       " 'model_params': {'output_size': 63},\n",
       " 'scheduler_params': {'milestones': [10, 20], 'gamma': 0.1},\n",
       " 'optimizer_params': {'lr': 0.0001},\n",
       " 'trainer_params': {'max_epochs': 100, 'precision': '32', 'devices': 1},\n",
       " 'early_stopping_params': {'monitor': 'val_loss',\n",
       "  'mode': 'min',\n",
       "  'patience': 5}}"
      ]
     },
     "execution_count": 7,
     "metadata": {},
     "output_type": "execute_result"
    }
   ],
   "source": [
    "# hyper_params['data_params']['fix_nan'] = True\n",
    "# hyper_params"
   ]
  },
  {
   "cell_type": "code",
   "execution_count": 8,
   "metadata": {},
   "outputs": [],
   "source": [
    "# use tensor cores\n",
    "if computease:\n",
    "    torch.set_float32_matmul_precision('medium')\n",
    "# else:\n",
    "#     hyper_params['data_params']['batch_size'] = 8"
   ]
  },
  {
   "cell_type": "markdown",
   "metadata": {
    "pycharm": {
     "name": "#%% md\n"
    }
   },
   "source": [
    "## Create Datasets"
   ]
  },
  {
   "cell_type": "code",
   "execution_count": 9,
   "metadata": {},
   "outputs": [],
   "source": [
    "class RSO_LModule_apply_cnn(RSO_LModule):\n",
    "    def setup(self, stage: str):\n",
    "        # Assign test dataset for use in dataloader(s)\n",
    "        if stage == \"test\" or stage == \"predict\":\n",
    "            self.d = self._load_datasets(sessions=[1, 2, 3, 4, 5, 6], only_full_visible=False)\n",
    "            self.test_data = ConcatDataset(self.d)\n",
    "    \n",
    "    def test_dataloader(self):\n",
    "        return DataLoader(self.test_data, **self.data_loader_args)\n",
    "\n",
    "data_module = RSO_LModule_apply_cnn(\n",
    "        data_dir=base_path, \n",
    "        n_jobs=num_worker, \n",
    "        debug=debug, \n",
    "        **hyper_params['data_params'])"
   ]
  },
  {
   "cell_type": "code",
   "execution_count": 10,
   "metadata": {},
   "outputs": [
    {
     "name": "stderr",
     "output_type": "stream",
     "text": [
      "GPU available: True (cuda), used: True\n",
      "TPU available: False, using: 0 TPU cores\n",
      "IPU available: False, using: 0 IPUs\n",
      "HPU available: False, using: 0 HPUs\n",
      "QUEUEING TASKS | : 100%|██████████| 6/6 [00:00<00:00, 2552.83it/s]\n",
      "PROCESSING TASKS | : 100%|██████████| 6/6 [02:08<00:00, 21.39s/it] \n",
      "COLLECTING RESULTS | : 100%|██████████| 6/6 [00:00<00:00, 28086.86it/s]\n",
      "LOCAL_RANK: 0 - CUDA_VISIBLE_DEVICES: [0]\n"
     ]
    },
    {
     "name": "stdout",
     "output_type": "stream",
     "text": [
      "Predicting DataLoader 0: 100%|██████████| 3431/3431 [22:22<00:00,  2.56it/s]\n"
     ]
    }
   ],
   "source": [
    "# actually run the model and prediction\n",
    "trainer = pl.Trainer(logger=False, \n",
    "            fast_dev_run=dry_run,\n",
    "            default_root_dir=checkpoint_path, \n",
    "            **hyper_params['trainer_params'])\n",
    "\n",
    "res = trainer.predict(model, data_module)\n",
    "prediction, target = extract_pred(res)"
   ]
  },
  {
   "cell_type": "markdown",
   "metadata": {},
   "source": [
    "# Save Skeleton"
   ]
  },
  {
   "cell_type": "code",
   "execution_count": 11,
   "metadata": {},
   "outputs": [],
   "source": [
    "session_info = pd.concat([d.optitrack_data.assign(session=i+1) for i, d in enumerate(data_module.d)])['session'].reset_index(drop=True)"
   ]
  },
  {
   "cell_type": "code",
   "execution_count": 12,
   "metadata": {},
   "outputs": [
    {
     "data": {
      "text/html": [
       "<div>\n",
       "<style scoped>\n",
       "    .dataframe tbody tr th:only-of-type {\n",
       "        vertical-align: middle;\n",
       "    }\n",
       "\n",
       "    .dataframe tbody tr th {\n",
       "        vertical-align: top;\n",
       "    }\n",
       "\n",
       "    .dataframe thead tr th {\n",
       "        text-align: left;\n",
       "    }\n",
       "</style>\n",
       "<table border=\"1\" class=\"dataframe\">\n",
       "  <thead>\n",
       "    <tr>\n",
       "      <th></th>\n",
       "      <th colspan=\"3\" halign=\"left\">Ab</th>\n",
       "      <th colspan=\"3\" halign=\"left\">Chest</th>\n",
       "      <th colspan=\"3\" halign=\"left\">Head</th>\n",
       "      <th>Hip</th>\n",
       "      <th>...</th>\n",
       "      <th colspan=\"3\" halign=\"left\">RThigh</th>\n",
       "      <th colspan=\"3\" halign=\"left\">RToe</th>\n",
       "      <th colspan=\"3\" halign=\"left\">RUArm</th>\n",
       "      <th>Session</th>\n",
       "    </tr>\n",
       "    <tr>\n",
       "      <th></th>\n",
       "      <th colspan=\"3\" halign=\"left\">Position</th>\n",
       "      <th colspan=\"3\" halign=\"left\">Position</th>\n",
       "      <th colspan=\"3\" halign=\"left\">Position</th>\n",
       "      <th>Position</th>\n",
       "      <th>...</th>\n",
       "      <th colspan=\"3\" halign=\"left\">Position</th>\n",
       "      <th colspan=\"3\" halign=\"left\">Position</th>\n",
       "      <th colspan=\"3\" halign=\"left\">Position</th>\n",
       "      <th></th>\n",
       "    </tr>\n",
       "    <tr>\n",
       "      <th>Frame</th>\n",
       "      <th>X</th>\n",
       "      <th>Y</th>\n",
       "      <th>Z</th>\n",
       "      <th>X</th>\n",
       "      <th>Y</th>\n",
       "      <th>Z</th>\n",
       "      <th>X</th>\n",
       "      <th>Y</th>\n",
       "      <th>Z</th>\n",
       "      <th>X</th>\n",
       "      <th>...</th>\n",
       "      <th>X</th>\n",
       "      <th>Y</th>\n",
       "      <th>Z</th>\n",
       "      <th>X</th>\n",
       "      <th>Y</th>\n",
       "      <th>Z</th>\n",
       "      <th>X</th>\n",
       "      <th>Y</th>\n",
       "      <th>Z</th>\n",
       "      <th></th>\n",
       "    </tr>\n",
       "  </thead>\n",
       "  <tbody>\n",
       "    <tr>\n",
       "      <th>0</th>\n",
       "      <td>34.816116</td>\n",
       "      <td>103.440819</td>\n",
       "      <td>15.523431</td>\n",
       "      <td>36.557854</td>\n",
       "      <td>118.369209</td>\n",
       "      <td>18.232561</td>\n",
       "      <td>35.734913</td>\n",
       "      <td>149.870422</td>\n",
       "      <td>15.792988</td>\n",
       "      <td>34.741917</td>\n",
       "      <td>...</td>\n",
       "      <td>46.965675</td>\n",
       "      <td>95.755692</td>\n",
       "      <td>15.648817</td>\n",
       "      <td>51.037663</td>\n",
       "      <td>5.239282</td>\n",
       "      <td>10.634644</td>\n",
       "      <td>61.727154</td>\n",
       "      <td>133.757492</td>\n",
       "      <td>23.645472</td>\n",
       "      <td>1</td>\n",
       "    </tr>\n",
       "    <tr>\n",
       "      <th>1</th>\n",
       "      <td>34.203415</td>\n",
       "      <td>102.704933</td>\n",
       "      <td>15.077739</td>\n",
       "      <td>36.044434</td>\n",
       "      <td>117.543175</td>\n",
       "      <td>17.620770</td>\n",
       "      <td>35.115643</td>\n",
       "      <td>148.816559</td>\n",
       "      <td>15.228624</td>\n",
       "      <td>34.160145</td>\n",
       "      <td>...</td>\n",
       "      <td>46.104671</td>\n",
       "      <td>95.064514</td>\n",
       "      <td>14.658244</td>\n",
       "      <td>49.567928</td>\n",
       "      <td>5.129473</td>\n",
       "      <td>11.877818</td>\n",
       "      <td>60.893978</td>\n",
       "      <td>132.825668</td>\n",
       "      <td>21.551857</td>\n",
       "      <td>1</td>\n",
       "    </tr>\n",
       "    <tr>\n",
       "      <th>2</th>\n",
       "      <td>34.006805</td>\n",
       "      <td>103.156639</td>\n",
       "      <td>14.096414</td>\n",
       "      <td>35.741703</td>\n",
       "      <td>118.054741</td>\n",
       "      <td>16.746607</td>\n",
       "      <td>34.933910</td>\n",
       "      <td>149.479263</td>\n",
       "      <td>14.349734</td>\n",
       "      <td>33.946651</td>\n",
       "      <td>...</td>\n",
       "      <td>45.967392</td>\n",
       "      <td>95.478157</td>\n",
       "      <td>14.166105</td>\n",
       "      <td>49.762302</td>\n",
       "      <td>5.163775</td>\n",
       "      <td>10.654462</td>\n",
       "      <td>60.513672</td>\n",
       "      <td>133.431076</td>\n",
       "      <td>21.825674</td>\n",
       "      <td>1</td>\n",
       "    </tr>\n",
       "    <tr>\n",
       "      <th>3</th>\n",
       "      <td>33.516331</td>\n",
       "      <td>102.866081</td>\n",
       "      <td>15.092410</td>\n",
       "      <td>35.373463</td>\n",
       "      <td>117.712494</td>\n",
       "      <td>17.684219</td>\n",
       "      <td>34.480320</td>\n",
       "      <td>149.055817</td>\n",
       "      <td>15.284741</td>\n",
       "      <td>33.458916</td>\n",
       "      <td>...</td>\n",
       "      <td>45.597267</td>\n",
       "      <td>95.200394</td>\n",
       "      <td>14.741529</td>\n",
       "      <td>49.210785</td>\n",
       "      <td>5.161929</td>\n",
       "      <td>10.817093</td>\n",
       "      <td>60.550331</td>\n",
       "      <td>133.010559</td>\n",
       "      <td>21.923864</td>\n",
       "      <td>1</td>\n",
       "    </tr>\n",
       "    <tr>\n",
       "      <th>4</th>\n",
       "      <td>34.912457</td>\n",
       "      <td>103.369965</td>\n",
       "      <td>15.205575</td>\n",
       "      <td>36.687561</td>\n",
       "      <td>118.299698</td>\n",
       "      <td>17.863331</td>\n",
       "      <td>35.833111</td>\n",
       "      <td>149.792450</td>\n",
       "      <td>15.432262</td>\n",
       "      <td>34.849430</td>\n",
       "      <td>...</td>\n",
       "      <td>46.997116</td>\n",
       "      <td>95.680031</td>\n",
       "      <td>15.149675</td>\n",
       "      <td>50.733173</td>\n",
       "      <td>5.178285</td>\n",
       "      <td>11.581563</td>\n",
       "      <td>61.744392</td>\n",
       "      <td>133.715897</td>\n",
       "      <td>22.718693</td>\n",
       "      <td>1</td>\n",
       "    </tr>\n",
       "    <tr>\n",
       "      <th>...</th>\n",
       "      <td>...</td>\n",
       "      <td>...</td>\n",
       "      <td>...</td>\n",
       "      <td>...</td>\n",
       "      <td>...</td>\n",
       "      <td>...</td>\n",
       "      <td>...</td>\n",
       "      <td>...</td>\n",
       "      <td>...</td>\n",
       "      <td>...</td>\n",
       "      <td>...</td>\n",
       "      <td>...</td>\n",
       "      <td>...</td>\n",
       "      <td>...</td>\n",
       "      <td>...</td>\n",
       "      <td>...</td>\n",
       "      <td>...</td>\n",
       "      <td>...</td>\n",
       "      <td>...</td>\n",
       "      <td>...</td>\n",
       "      <td>...</td>\n",
       "    </tr>\n",
       "    <tr>\n",
       "      <th>157814</th>\n",
       "      <td>-1.903551</td>\n",
       "      <td>100.026764</td>\n",
       "      <td>126.187622</td>\n",
       "      <td>-3.516900</td>\n",
       "      <td>114.475479</td>\n",
       "      <td>127.517693</td>\n",
       "      <td>-1.974476</td>\n",
       "      <td>145.278946</td>\n",
       "      <td>126.885803</td>\n",
       "      <td>-2.200559</td>\n",
       "      <td>...</td>\n",
       "      <td>-1.599732</td>\n",
       "      <td>92.477371</td>\n",
       "      <td>134.393753</td>\n",
       "      <td>1.773480</td>\n",
       "      <td>4.169450</td>\n",
       "      <td>143.149612</td>\n",
       "      <td>-5.649695</td>\n",
       "      <td>129.613464</td>\n",
       "      <td>144.311295</td>\n",
       "      <td>6</td>\n",
       "    </tr>\n",
       "    <tr>\n",
       "      <th>157815</th>\n",
       "      <td>-3.666246</td>\n",
       "      <td>100.004555</td>\n",
       "      <td>126.297203</td>\n",
       "      <td>-5.561305</td>\n",
       "      <td>114.427002</td>\n",
       "      <td>127.343903</td>\n",
       "      <td>-3.887467</td>\n",
       "      <td>145.249863</td>\n",
       "      <td>126.997437</td>\n",
       "      <td>-3.966238</td>\n",
       "      <td>...</td>\n",
       "      <td>-4.814098</td>\n",
       "      <td>92.427856</td>\n",
       "      <td>134.738129</td>\n",
       "      <td>-1.575662</td>\n",
       "      <td>4.146951</td>\n",
       "      <td>143.137634</td>\n",
       "      <td>-10.842616</td>\n",
       "      <td>129.547974</td>\n",
       "      <td>144.222992</td>\n",
       "      <td>6</td>\n",
       "    </tr>\n",
       "    <tr>\n",
       "      <th>157816</th>\n",
       "      <td>-5.001548</td>\n",
       "      <td>100.383865</td>\n",
       "      <td>126.464470</td>\n",
       "      <td>-6.573536</td>\n",
       "      <td>114.887848</td>\n",
       "      <td>127.671501</td>\n",
       "      <td>-5.007646</td>\n",
       "      <td>145.769806</td>\n",
       "      <td>127.075691</td>\n",
       "      <td>-5.310528</td>\n",
       "      <td>...</td>\n",
       "      <td>-4.889763</td>\n",
       "      <td>92.860359</td>\n",
       "      <td>134.379837</td>\n",
       "      <td>-2.035601</td>\n",
       "      <td>4.295224</td>\n",
       "      <td>143.728439</td>\n",
       "      <td>-8.870429</td>\n",
       "      <td>129.999176</td>\n",
       "      <td>143.726639</td>\n",
       "      <td>6</td>\n",
       "    </tr>\n",
       "    <tr>\n",
       "      <th>157817</th>\n",
       "      <td>-7.911106</td>\n",
       "      <td>99.969940</td>\n",
       "      <td>127.503952</td>\n",
       "      <td>-9.708652</td>\n",
       "      <td>114.401375</td>\n",
       "      <td>128.605774</td>\n",
       "      <td>-8.026447</td>\n",
       "      <td>145.195099</td>\n",
       "      <td>128.206757</td>\n",
       "      <td>-8.215654</td>\n",
       "      <td>...</td>\n",
       "      <td>-8.728952</td>\n",
       "      <td>92.424667</td>\n",
       "      <td>135.923279</td>\n",
       "      <td>-5.961750</td>\n",
       "      <td>4.147422</td>\n",
       "      <td>145.940964</td>\n",
       "      <td>-14.180821</td>\n",
       "      <td>129.508820</td>\n",
       "      <td>145.388779</td>\n",
       "      <td>6</td>\n",
       "    </tr>\n",
       "    <tr>\n",
       "      <th>157818</th>\n",
       "      <td>-10.074849</td>\n",
       "      <td>99.876678</td>\n",
       "      <td>127.525047</td>\n",
       "      <td>-11.846476</td>\n",
       "      <td>114.300461</td>\n",
       "      <td>128.592453</td>\n",
       "      <td>-10.186823</td>\n",
       "      <td>145.075699</td>\n",
       "      <td>128.246643</td>\n",
       "      <td>-10.373871</td>\n",
       "      <td>...</td>\n",
       "      <td>-11.052292</td>\n",
       "      <td>92.331123</td>\n",
       "      <td>135.781540</td>\n",
       "      <td>-8.368091</td>\n",
       "      <td>4.146124</td>\n",
       "      <td>145.389297</td>\n",
       "      <td>-16.582256</td>\n",
       "      <td>129.363144</td>\n",
       "      <td>144.939133</td>\n",
       "      <td>6</td>\n",
       "    </tr>\n",
       "  </tbody>\n",
       "</table>\n",
       "<p>157819 rows × 64 columns</p>\n",
       "</div>"
      ],
      "text/plain": [
       "               Ab                              Chest                          \\\n",
       "         Position                           Position                           \n",
       "Frame           X           Y           Z          X           Y           Z   \n",
       "0       34.816116  103.440819   15.523431  36.557854  118.369209   18.232561   \n",
       "1       34.203415  102.704933   15.077739  36.044434  117.543175   17.620770   \n",
       "2       34.006805  103.156639   14.096414  35.741703  118.054741   16.746607   \n",
       "3       33.516331  102.866081   15.092410  35.373463  117.712494   17.684219   \n",
       "4       34.912457  103.369965   15.205575  36.687561  118.299698   17.863331   \n",
       "...           ...         ...         ...        ...         ...         ...   \n",
       "157814  -1.903551  100.026764  126.187622  -3.516900  114.475479  127.517693   \n",
       "157815  -3.666246  100.004555  126.297203  -5.561305  114.427002  127.343903   \n",
       "157816  -5.001548  100.383865  126.464470  -6.573536  114.887848  127.671501   \n",
       "157817  -7.911106   99.969940  127.503952  -9.708652  114.401375  128.605774   \n",
       "157818 -10.074849   99.876678  127.525047 -11.846476  114.300461  128.592453   \n",
       "\n",
       "             Head                                Hip  ...     RThigh  \\\n",
       "         Position                           Position  ...   Position   \n",
       "Frame           X           Y           Z          X  ...          X   \n",
       "0       35.734913  149.870422   15.792988  34.741917  ...  46.965675   \n",
       "1       35.115643  148.816559   15.228624  34.160145  ...  46.104671   \n",
       "2       34.933910  149.479263   14.349734  33.946651  ...  45.967392   \n",
       "3       34.480320  149.055817   15.284741  33.458916  ...  45.597267   \n",
       "4       35.833111  149.792450   15.432262  34.849430  ...  46.997116   \n",
       "...           ...         ...         ...        ...  ...        ...   \n",
       "157814  -1.974476  145.278946  126.885803  -2.200559  ...  -1.599732   \n",
       "157815  -3.887467  145.249863  126.997437  -3.966238  ...  -4.814098   \n",
       "157816  -5.007646  145.769806  127.075691  -5.310528  ...  -4.889763   \n",
       "157817  -8.026447  145.195099  128.206757  -8.215654  ...  -8.728952   \n",
       "157818 -10.186823  145.075699  128.246643 -10.373871  ... -11.052292   \n",
       "\n",
       "                                    RToe                            RUArm  \\\n",
       "                                Position                         Position   \n",
       "Frame           Y           Z          X         Y           Z          X   \n",
       "0       95.755692   15.648817  51.037663  5.239282   10.634644  61.727154   \n",
       "1       95.064514   14.658244  49.567928  5.129473   11.877818  60.893978   \n",
       "2       95.478157   14.166105  49.762302  5.163775   10.654462  60.513672   \n",
       "3       95.200394   14.741529  49.210785  5.161929   10.817093  60.550331   \n",
       "4       95.680031   15.149675  50.733173  5.178285   11.581563  61.744392   \n",
       "...           ...         ...        ...       ...         ...        ...   \n",
       "157814  92.477371  134.393753   1.773480  4.169450  143.149612  -5.649695   \n",
       "157815  92.427856  134.738129  -1.575662  4.146951  143.137634 -10.842616   \n",
       "157816  92.860359  134.379837  -2.035601  4.295224  143.728439  -8.870429   \n",
       "157817  92.424667  135.923279  -5.961750  4.147422  145.940964 -14.180821   \n",
       "157818  92.331123  135.781540  -8.368091  4.146124  145.389297 -16.582256   \n",
       "\n",
       "                               Session  \n",
       "                                        \n",
       "Frame            Y           Z          \n",
       "0       133.757492   23.645472       1  \n",
       "1       132.825668   21.551857       1  \n",
       "2       133.431076   21.825674       1  \n",
       "3       133.010559   21.923864       1  \n",
       "4       133.715897   22.718693       1  \n",
       "...            ...         ...     ...  \n",
       "157814  129.613464  144.311295       6  \n",
       "157815  129.547974  144.222992       6  \n",
       "157816  129.999176  143.726639       6  \n",
       "157817  129.508820  145.388779       6  \n",
       "157818  129.363144  144.939133       6  \n",
       "\n",
       "[157819 rows x 64 columns]"
      ]
     },
     "execution_count": 12,
     "metadata": {},
     "output_type": "execute_result"
    }
   ],
   "source": [
    "prd_df = pd.DataFrame(prediction)\n",
    "prd_df.columns = data_module.columns\n",
    "prd_df['Session'] = session_info\n",
    "\n",
    "trg_df = pd.DataFrame(target)\n",
    "trg_df.columns = data_module.columns\n",
    "trg_df['Session'] = session_info\n",
    "\n",
    "prd_df"
   ]
  },
  {
   "cell_type": "code",
   "execution_count": 13,
   "metadata": {},
   "outputs": [],
   "source": [
    "prd_df.to_parquet(f\"../data/transformed/{lib}.{params}.prd{'.debug' if debug else ''}.parquet\")\n",
    "trg_df.to_parquet(f\"../data/transformed/{lib}.{params}.trg{'.debug' if debug else ''}.parquet\")"
   ]
  }
 ],
 "metadata": {
  "kernelspec": {
   "display_name": "Python 3 (ipykernel)",
   "language": "python",
   "name": "python3"
  },
  "language_info": {
   "codemirror_mode": {
    "name": "ipython",
    "version": 3
   },
   "file_extension": ".py",
   "mimetype": "text/x-python",
   "name": "python",
   "nbconvert_exporter": "python",
   "pygments_lexer": "ipython3",
   "version": "3.10.14"
  }
 },
 "nbformat": 4,
 "nbformat_minor": 1
}
