{
 "cells": [
  {
   "cell_type": "markdown",
   "metadata": {},
   "source": [
    "# Run Visualization of Prediction"
   ]
  },
  {
   "cell_type": "code",
   "execution_count": 2,
   "metadata": {
    "pycharm": {
     "name": "#%%\n"
    }
   },
   "outputs": [
    {
     "name": "stderr",
     "output_type": "stream",
     "text": [
      "/home/yale1/miniconda3/envs/smart-cities/lib/python3.10/site-packages/tqdm/auto.py:21: TqdmWarning: IProgress not found. Please update jupyter and ipywidgets. See https://ipywidgets.readthedocs.io/en/stable/user_install.html\n",
      "  from .autonotebook import tqdm as notebook_tqdm\n"
     ]
    }
   ],
   "source": [
    "# Enable interactive plot\n",
    "%matplotlib inline\n",
    "\n",
    "import pandas as pd\n",
    "import seaborn as sns\n",
    "sns.set_theme(style=\"ticks\")\n",
    "\n",
    "import importlib\n",
    "from run import path_resolution"
   ]
  },
  {
   "cell_type": "code",
   "execution_count": 3,
   "metadata": {
    "tags": [
     "parameters"
    ]
   },
   "outputs": [],
   "source": [
    "debug = False\n",
    "dry_run = False\n",
    "num_worker = 20\n",
    "computease = False\n",
    "\n",
    "# data = \"RSO_LModule_Seq\"\n",
    "data = \"RSO_LModule\""
   ]
  },
  {
   "cell_type": "code",
   "execution_count": 4,
   "metadata": {},
   "outputs": [
    {
     "name": "stdout",
     "output_type": "stream",
     "text": [
      " -- rsync --\n",
      "Calling: rsync -av /share/temp/yhartmann/smart-cities-journal-based-on-jonahs-ma/data/ /home/yale1/ma-jonah-data/\n",
      "sending incremental file list\n",
      "\n",
      "sent 3,068 bytes  received 31 bytes  6,198.00 bytes/sec\n",
      "total size is 20,528,940,833  speedup is 6,624,375.87\n",
      " -- rsync finished --\n",
      "\n",
      "Base path: /home/yale1/ma-jonah-data/\n"
     ]
    }
   ],
   "source": [
    "# path resolution\n",
    "base_path = path_resolution()"
   ]
  },
  {
   "cell_type": "markdown",
   "metadata": {
    "pycharm": {
     "name": "#%% md\n"
    }
   },
   "source": [
    "## Create Datasets"
   ]
  },
  {
   "cell_type": "code",
   "execution_count": 5,
   "metadata": {},
   "outputs": [],
   "source": [
    "sessions = [1, 2, 3, 4, 5, 6]"
   ]
  },
  {
   "cell_type": "code",
   "execution_count": 6,
   "metadata": {},
   "outputs": [
    {
     "name": "stderr",
     "output_type": "stream",
     "text": [
      "QUEUEING TASKS | : 100%|██████████| 6/6 [00:00<00:00, 1798.33it/s]\n",
      "PROCESSING TASKS | : 100%|██████████| 6/6 [01:25<00:00, 14.26s/it]\n",
      "COLLECTING RESULTS | : 100%|██████████| 6/6 [00:00<00:00, 38538.78it/s]\n"
     ]
    }
   ],
   "source": [
    "# construct data module\n",
    "DLModule = getattr(importlib.import_module(f\"datasets.{data}\"), data)\n",
    "data_module = DLModule(data_dir=base_path, \n",
    "    n_jobs=num_worker, \n",
    "    debug=debug,\n",
    "    fix_nan=False,\n",
    "    batch_size=1)\n",
    "\n",
    "all_datasets = data_module._load_datasets(sessions=sessions)"
   ]
  },
  {
   "cell_type": "markdown",
   "metadata": {},
   "source": [
    "# Visualize Conseq Nans"
   ]
  },
  {
   "cell_type": "code",
   "execution_count": 7,
   "metadata": {},
   "outputs": [
    {
     "name": "stderr",
     "output_type": "stream",
     "text": [
      "/tmp/ipykernel_2485469/2539427180.py:2: PerformanceWarning: dropping on a non-lexsorted multi-index without a level parameter may impact performance.\n",
      "  holes['Consecutive Partial Frames'] = holes.groupby('session').diff()#.plot()\n"
     ]
    },
    {
     "data": {
      "text/html": [
       "<div>\n",
       "<style scoped>\n",
       "    .dataframe tbody tr th:only-of-type {\n",
       "        vertical-align: middle;\n",
       "    }\n",
       "\n",
       "    .dataframe tbody tr th {\n",
       "        vertical-align: top;\n",
       "    }\n",
       "\n",
       "    .dataframe thead tr th {\n",
       "        text-align: left;\n",
       "    }\n",
       "</style>\n",
       "<table border=\"1\" class=\"dataframe\">\n",
       "  <thead>\n",
       "    <tr>\n",
       "      <th></th>\n",
       "      <th>index</th>\n",
       "      <th>session</th>\n",
       "      <th>Consecutive Partial Frames</th>\n",
       "    </tr>\n",
       "    <tr>\n",
       "      <th></th>\n",
       "      <th></th>\n",
       "      <th></th>\n",
       "      <th></th>\n",
       "    </tr>\n",
       "    <tr>\n",
       "      <th>Frame</th>\n",
       "      <th></th>\n",
       "      <th></th>\n",
       "      <th></th>\n",
       "    </tr>\n",
       "  </thead>\n",
       "  <tbody>\n",
       "    <tr>\n",
       "      <th>0</th>\n",
       "      <td>0</td>\n",
       "      <td>1</td>\n",
       "      <td>NaN</td>\n",
       "    </tr>\n",
       "    <tr>\n",
       "      <th>1</th>\n",
       "      <td>1</td>\n",
       "      <td>1</td>\n",
       "      <td>1.0</td>\n",
       "    </tr>\n",
       "    <tr>\n",
       "      <th>2</th>\n",
       "      <td>2</td>\n",
       "      <td>1</td>\n",
       "      <td>1.0</td>\n",
       "    </tr>\n",
       "    <tr>\n",
       "      <th>3</th>\n",
       "      <td>3</td>\n",
       "      <td>1</td>\n",
       "      <td>1.0</td>\n",
       "    </tr>\n",
       "    <tr>\n",
       "      <th>4</th>\n",
       "      <td>4</td>\n",
       "      <td>1</td>\n",
       "      <td>1.0</td>\n",
       "    </tr>\n",
       "    <tr>\n",
       "      <th>...</th>\n",
       "      <td>...</td>\n",
       "      <td>...</td>\n",
       "      <td>...</td>\n",
       "    </tr>\n",
       "    <tr>\n",
       "      <th>128161</th>\n",
       "      <td>26694</td>\n",
       "      <td>6</td>\n",
       "      <td>1.0</td>\n",
       "    </tr>\n",
       "    <tr>\n",
       "      <th>128162</th>\n",
       "      <td>26695</td>\n",
       "      <td>6</td>\n",
       "      <td>1.0</td>\n",
       "    </tr>\n",
       "    <tr>\n",
       "      <th>128163</th>\n",
       "      <td>26696</td>\n",
       "      <td>6</td>\n",
       "      <td>1.0</td>\n",
       "    </tr>\n",
       "    <tr>\n",
       "      <th>128164</th>\n",
       "      <td>26697</td>\n",
       "      <td>6</td>\n",
       "      <td>1.0</td>\n",
       "    </tr>\n",
       "    <tr>\n",
       "      <th>128165</th>\n",
       "      <td>26698</td>\n",
       "      <td>6</td>\n",
       "      <td>1.0</td>\n",
       "    </tr>\n",
       "  </tbody>\n",
       "</table>\n",
       "<p>128166 rows × 3 columns</p>\n",
       "</div>"
      ],
      "text/plain": [
       "        index session Consecutive Partial Frames\n",
       "                                                \n",
       "Frame                                           \n",
       "0           0       1                        NaN\n",
       "1           1       1                        1.0\n",
       "2           2       1                        1.0\n",
       "3           3       1                        1.0\n",
       "4           4       1                        1.0\n",
       "...       ...     ...                        ...\n",
       "128161  26694       6                        1.0\n",
       "128162  26695       6                        1.0\n",
       "128163  26696       6                        1.0\n",
       "128164  26697       6                        1.0\n",
       "128165  26698       6                        1.0\n",
       "\n",
       "[128166 rows x 3 columns]"
      ]
     },
     "execution_count": 7,
     "metadata": {},
     "output_type": "execute_result"
    }
   ],
   "source": [
    "holes = pd.concat([d.optitrack_data.assign(session=session).reset_index()[['index', 'session']] for session, d in zip(sessions, all_datasets)])\n",
    "holes['Consecutive Partial Frames'] = holes.groupby('session').diff()#.plot()\n",
    "holes = holes.reset_index(drop=True)\n",
    "holes"
   ]
  },
  {
   "cell_type": "code",
   "execution_count": 8,
   "metadata": {},
   "outputs": [
    {
     "data": {
      "text/plain": [
       "<Axes: xlabel='Consecutive Partial Frames', ylabel='Count'>"
      ]
     },
     "execution_count": 8,
     "metadata": {},
     "output_type": "execute_result"
    },
    {
     "data": {
      "image/png": "[encoded data removed]",
      "text/plain": [
       "<Figure size 640x480 with 1 Axes>"
      ]
     },
     "metadata": {},
     "output_type": "display_data"
    }
   ],
   "source": [
    "sns.histplot(data=holes, x=\"Consecutive Partial Frames\", hue=\"session\", multiple=\"dodge\", bins=30)"
   ]
  },
  {
   "cell_type": "code",
   "execution_count": 9,
   "metadata": {},
   "outputs": [
    {
     "data": {
      "text/plain": [
       "                              Frame\n",
       "index                                  48\n",
       "session                                48\n",
       "Consecutive Partial Frames             48\n",
       "dtype: int64"
      ]
     },
     "execution_count": 9,
     "metadata": {},
     "output_type": "execute_result"
    },
    {
     "data": {
      "image/png": "[encoded data removed]",
      "text/plain": [
       "<Figure size 640x480 with 1 Axes>"
      ]
     },
     "metadata": {},
     "output_type": "display_data"
    }
   ],
   "source": [
    "sns.histplot(data=holes[holes[\"Consecutive Partial Frames\"] > 60], x=\"Consecutive Partial Frames\", hue=\"session\", multiple=\"stack\", bins=30)\n",
    "holes[holes[\"Consecutive Partial Frames\"] > 60].count()"
   ]
  },
  {
   "cell_type": "code",
   "execution_count": 10,
   "metadata": {},
   "outputs": [
    {
     "data": {
      "text/plain": [
       "                              Frame\n",
       "index                                  28\n",
       "session                                28\n",
       "Consecutive Partial Frames             28\n",
       "dtype: int64"
      ]
     },
     "execution_count": 10,
     "metadata": {},
     "output_type": "execute_result"
    },
    {
     "data": {
      "image/png": "[encoded data removed]",
      "text/plain": [
       "<Figure size 640x480 with 1 Axes>"
      ]
     },
     "metadata": {},
     "output_type": "display_data"
    }
   ],
   "source": [
    "sns.histplot(data=holes[holes[\"Consecutive Partial Frames\"] > 120], x=\"Consecutive Partial Frames\", hue=\"session\", multiple=\"stack\", bins=30)\n",
    "holes[holes[\"Consecutive Partial Frames\"] > 120].count()"
   ]
  },
  {
   "cell_type": "code",
   "execution_count": 11,
   "metadata": {},
   "outputs": [
    {
     "data": {
      "text/plain": [
       "[(1, 4.60264552246126),\n",
       " (2, 2.7553810183674234),\n",
       " (3, 2.64445241037878),\n",
       " (4, 0.27928327991996016),\n",
       " (5, 0.3868378812199037),\n",
       " (6, 7.046463392667655)]"
      ]
     },
     "execution_count": 11,
     "metadata": {},
     "output_type": "execute_result"
    }
   ],
   "source": [
    "[(session, d.nan_percentage) for session, d in zip(sessions, all_datasets)]"
   ]
  }
 ],
 "metadata": {
  "kernelspec": {
   "display_name": "Python 3 (ipykernel)",
   "language": "python",
   "name": "python3"
  },
  "language_info": {
   "codemirror_mode": {
    "name": "ipython",
    "version": 3
   },
   "file_extension": ".py",
   "mimetype": "text/x-python",
   "name": "python",
   "nbconvert_exporter": "python",
   "pygments_lexer": "ipython3",
   "version": "3.10.13"
  }
 },
 "nbformat": 4,
 "nbformat_minor": 1
}
