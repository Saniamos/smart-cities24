{
 "cells": [
  {
   "cell_type": "markdown",
   "metadata": {},
   "source": [
    "# Run Training"
   ]
  },
  {
   "cell_type": "code",
   "execution_count": 2,
   "metadata": {},
   "outputs": [
    {
     "name": "stdout",
     "output_type": "stream",
     "text": [
      "Run at: 12.04.2024 13:46:29\n"
     ]
    }
   ],
   "source": [
    "from datetime import datetime\n",
    "print(\"Run at:\", datetime.now().strftime(\"%d.%m.%Y %H:%M:%S\"))"
   ]
  },
  {
   "cell_type": "code",
   "execution_count": 3,
   "metadata": {
    "pycharm": {
     "name": "#%%\n"
    }
   },
   "outputs": [
    {
     "name": "stderr",
     "output_type": "stream",
     "text": [
      "/home/yale1/miniconda3/envs/smart-cities/lib/python3.10/site-packages/tqdm/auto.py:21: TqdmWarning: IProgress not found. Please update jupyter and ipywidgets. See https://ipywidgets.readthedocs.io/en/stable/user_install.html\n",
      "  from .autonotebook import tqdm as notebook_tqdm\n",
      "2024-04-12 13:46:32.862008: I external/local_tsl/tsl/cuda/cudart_stub.cc:32] Could not find cuda drivers on your machine, GPU will not be used.\n",
      "2024-04-12 13:46:32.913711: I tensorflow/core/platform/cpu_feature_guard.cc:210] This TensorFlow binary is optimized to use available CPU instructions in performance-critical operations.\n",
      "To enable the following instructions: AVX2 AVX512F FMA, in other operations, rebuild TensorFlow with the appropriate compiler flags.\n",
      "2024-04-12 13:46:33.823630: W tensorflow/compiler/tf2tensorrt/utils/py_utils.cc:38] TF-TRT Warning: Could not find TensorRT\n"
     ]
    }
   ],
   "source": [
    "# Enable interactive plot\n",
    "#@formatter:off\n",
    "%load_ext autoreload\n",
    "%autoreload 2\n",
    "#@formatter:on\n",
    "\n",
    "import torch\n",
    "import importlib\n",
    "from run import path_resolution\n",
    "\n",
    "import visualkeras\n",
    "# you might need to limit this to version 0.0.1\n",
    "from pytorch2keras import pytorch_to_keras \n",
    "# you might need to remove the optimizer in the import here, as we're not going to optimize anything that shouldn't be a problem"
   ]
  },
  {
   "cell_type": "code",
   "execution_count": 4,
   "metadata": {},
   "outputs": [],
   "source": [
    "def load(lib, params, data):\n",
    "    # load model\n",
    "    NNModule = importlib.import_module(f\"models.{lib}\")\n",
    "    hyper_params = getattr(NNModule, params)\n",
    "    model = NNModule.NeuralNetwork(model_params=hyper_params['model_params'],\n",
    "                        optimizer=hyper_params['optimizer'],\n",
    "                        loss_function=hyper_params['loss_function'],\n",
    "                        optimizer_params=hyper_params['optimizer_params'],\n",
    "                        scheduler_params=hyper_params['scheduler_params'])\n",
    "    \n",
    "    # construct data module\n",
    "    DLModule = getattr(importlib.import_module(f\"datasets.{data}\"), data)\n",
    "    data_module = DLModule(data_dir=path_resolution(), \n",
    "        n_jobs=1, \n",
    "        debug=True, \n",
    "        **hyper_params['data_params'])\n",
    "    \n",
    "    return model, data_module.data_shape"
   ]
  },
  {
   "cell_type": "markdown",
   "metadata": {
    "pycharm": {
     "name": "#%% md\n"
    }
   },
   "source": [
    "# Plotting"
   ]
  },
  {
   "cell_type": "code",
   "execution_count": 5,
   "metadata": {},
   "outputs": [],
   "source": [
    "models = [\n",
    "    dict(\n",
    "        lib = \"OwnBaselineCNN\",\n",
    "        params = \"hp_default\",\n",
    "        data = \"RSO_LModule\"\n",
    "    ),\n",
    "    dict(\n",
    "        lib = \"CNNModel_LiChan2014\",\n",
    "        params = \"hp_default\",\n",
    "        data = \"RSO_LModule\"\n",
    "    ),\n",
    "    dict(\n",
    "        lib = \"CNNModel_LiChan2014_AvgPool\",\n",
    "        params = \"hp_default\",\n",
    "        data = \"RSO_LModule\"\n",
    "    ),\n",
    "    dict(\n",
    "        lib = \"ResNet50_SunShangetAl\",\n",
    "        params = \"hp_default\",\n",
    "        data = \"RSO_LModule\"\n",
    "    ),\n",
    "    dict(\n",
    "        lib = \"DenseNet\",\n",
    "        params = \"hp_default\",\n",
    "        data = \"RSO_LModule\"\n",
    "    ),\n",
    "]"
   ]
  },
  {
   "cell_type": "code",
   "execution_count": 7,
   "metadata": {},
   "outputs": [
    {
     "name": "stdout",
     "output_type": "stream",
     "text": [
      "2024-04-12 13:47:06,764 - torch.distributed.nn.jit.instantiator - INFO - Created a temporary directory at /tmp/tmp0wwf4g1e\n",
      "2024-04-12 13:47:06,769 - torch.distributed.nn.jit.instantiator - INFO - Writing /tmp/tmp0wwf4g1e/_remote_module_non_scriptable.py\n"
     ]
    },
    {
     "name": "stderr",
     "output_type": "stream",
     "text": [
      "/home/yale1/miniconda3/envs/smart-cities/lib/python3.10/site-packages/lightning/pytorch/utilities/parsing.py:199: Attribute 'loss_function' is an instance of `nn.Module` and is already saved during checkpointing. It is recommended to ignore them using `self.save_hyperparameters(ignore=['loss_function'])`.\n"
     ]
    },
    {
     "name": "stdout",
     "output_type": "stream",
     "text": [
      " -- rsync --\n",
      "Calling: rsync -av /share/temp/yhartmann/smart-cities-journal-based-on-jonahs-ma/data/ /share/data/yhartmann/data/ma-jonah/\n",
      "sending incremental file list\n",
      "\n",
      "sent 2,874 bytes  received 31 bytes  5,810.00 bytes/sec\n",
      "total size is 20,262,785,272  speedup is 6,975,141.23\n",
      " -- rsync finished --\n",
      "\n",
      "Base path: /share/data/yhartmann/data/ma-jonah/\n"
     ]
    }
   ],
   "source": [
    "model, shape = load(**models[0])"
   ]
  },
  {
   "cell_type": "code",
   "execution_count": 8,
   "metadata": {},
   "outputs": [
    {
     "name": "stdout",
     "output_type": "stream",
     "text": [
      "2024-04-12 13:47:31,358 - pytorch2keras - INFO - Converter is called.\n",
      "Exported graph: graph(%input_0 : Float(1, 1, 480, 848, strides=[407040, 407040, 848, 1], requires_grad=0, device=cpu),\n",
      "      %layers.0.weight : Float(8, 1, 3, 3, strides=[9, 9, 3, 1], requires_grad=1, device=cpu),\n",
      "      %layers.0.bias : Float(8, strides=[1], requires_grad=1, device=cpu),\n",
      "      %layers.3.weight : Float(16, 8, 3, 3, strides=[72, 9, 3, 1], requires_grad=1, device=cpu),\n",
      "      %layers.3.bias : Float(16, strides=[1], requires_grad=1, device=cpu),\n",
      "      %layers.6.weight : Float(32, 16, 3, 3, strides=[144, 9, 3, 1], requires_grad=1, device=cpu),\n",
      "      %layers.6.bias : Float(32, strides=[1], requires_grad=1, device=cpu),\n",
      "      %layers.10.weight : Float(4096, 39104, strides=[39104, 1], requires_grad=1, device=cpu),\n",
      "      %layers.10.bias : Float(4096, strides=[1], requires_grad=1, device=cpu),\n",
      "      %layers.12.weight : Float(1024, 4096, strides=[4096, 1], requires_grad=1, device=cpu),\n",
      "      %layers.12.bias : Float(1024, strides=[1], requires_grad=1, device=cpu),\n",
      "      %layers.14.weight : Float(512, 1024, strides=[1024, 1], requires_grad=1, device=cpu),\n",
      "      %layers.14.bias : Float(512, strides=[1], requires_grad=1, device=cpu),\n",
      "      %layers.16.weight : Float(63, 512, strides=[512, 1], requires_grad=1, device=cpu),\n",
      "      %layers.16.bias : Float(63, strides=[1], requires_grad=1, device=cpu)):\n",
      "  %/layers/layers.0/Conv_output_0 : Float(1, 8, 480, 848, strides=[3256320, 407040, 848, 1], requires_grad=0, device=cpu) = onnx::Conv[dilations=[1, 1], group=1, kernel_shape=[3, 3], pads=[1, 1, 1, 1], strides=[1, 1], onnx_name=\"/layers/layers.0/Conv\"](%input_0, %layers.0.weight, %layers.0.bias), scope: models.OwnBaselineCNN.NeuralNetwork::/torch.nn.modules.container.Sequential::layers/torch.nn.modules.conv.Conv2d::layers.0 # /home/yale1/miniconda3/envs/smart-cities/lib/python3.10/site-packages/torch/nn/modules/conv.py:458:0\n",
      "  %/layers/layers.1/Relu_output_0 : Float(1, 8, 480, 848, strides=[3256320, 407040, 848, 1], requires_grad=1, device=cpu) = onnx::Relu[onnx_name=\"/layers/layers.1/Relu\"](%/layers/layers.0/Conv_output_0), scope: models.OwnBaselineCNN.NeuralNetwork::/torch.nn.modules.container.Sequential::layers/torch.nn.modules.activation.ReLU::layers.1 # /home/yale1/miniconda3/envs/smart-cities/lib/python3.10/site-packages/torch/nn/functional.py:1453:0\n",
      "  %/layers/layers.2/MaxPool_output_0 : Float(1, 8, 160, 282, strides=[360960, 45120, 282, 1], requires_grad=1, device=cpu) = onnx::MaxPool[ceil_mode=0, kernel_shape=[3, 3], pads=[0, 0, 0, 0], strides=[3, 3], onnx_name=\"/layers/layers.2/MaxPool\"](%/layers/layers.1/Relu_output_0), scope: models.OwnBaselineCNN.NeuralNetwork::/torch.nn.modules.container.Sequential::layers/torch.nn.modules.pooling.MaxPool2d::layers.2 # /home/yale1/miniconda3/envs/smart-cities/lib/python3.10/site-packages/torch/nn/functional.py:780:0\n",
      "  %/layers/layers.3/Conv_output_0 : Float(1, 16, 160, 282, strides=[721920, 45120, 282, 1], requires_grad=0, device=cpu) = onnx::Conv[dilations=[1, 1], group=1, kernel_shape=[3, 3], pads=[1, 1, 1, 1], strides=[1, 1], onnx_name=\"/layers/layers.3/Conv\"](%/layers/layers.2/MaxPool_output_0, %layers.3.weight, %layers.3.bias), scope: models.OwnBaselineCNN.NeuralNetwork::/torch.nn.modules.container.Sequential::layers/torch.nn.modules.conv.Conv2d::layers.3 # /home/yale1/miniconda3/envs/smart-cities/lib/python3.10/site-packages/torch/nn/modules/conv.py:458:0\n",
      "  %/layers/layers.4/Relu_output_0 : Float(1, 16, 160, 282, strides=[721920, 45120, 282, 1], requires_grad=1, device=cpu) = onnx::Relu[onnx_name=\"/layers/layers.4/Relu\"](%/layers/layers.3/Conv_output_0), scope: models.OwnBaselineCNN.NeuralNetwork::/torch.nn.modules.container.Sequential::layers/torch.nn.modules.activation.ReLU::layers.4 # /home/yale1/miniconda3/envs/smart-cities/lib/python3.10/site-packages/torch/nn/functional.py:1453:0\n",
      "  %/layers/layers.5/MaxPool_output_0 : Float(1, 16, 53, 94, strides=[79712, 4982, 94, 1], requires_grad=1, device=cpu) = onnx::MaxPool[ceil_mode=0, kernel_shape=[3, 3], pads=[0, 0, 0, 0], strides=[3, 3], onnx_name=\"/layers/layers.5/MaxPool\"](%/layers/layers.4/Relu_output_0), scope: models.OwnBaselineCNN.NeuralNetwork::/torch.nn.modules.container.Sequential::layers/torch.nn.modules.pooling.MaxPool2d::layers.5 # /home/yale1/miniconda3/envs/smart-cities/lib/python3.10/site-packages/torch/nn/functional.py:780:0\n",
      "  %/layers/layers.6/Conv_output_0 : Float(1, 32, 53, 94, strides=[159424, 4982, 94, 1], requires_grad=0, device=cpu) = onnx::Conv[dilations=[1, 1], group=1, kernel_shape=[3, 3], pads=[1, 1, 1, 1], strides=[1, 1], onnx_name=\"/layers/layers.6/Conv\"](%/layers/layers.5/MaxPool_output_0, %layers.6.weight, %layers.6.bias), scope: models.OwnBaselineCNN.NeuralNetwork::/torch.nn.modules.container.Sequential::layers/torch.nn.modules.conv.Conv2d::layers.6 # /home/yale1/miniconda3/envs/smart-cities/lib/python3.10/site-packages/torch/nn/modules/conv.py:458:0\n",
      "  %/layers/layers.7/Relu_output_0 : Float(1, 32, 53, 94, strides=[159424, 4982, 94, 1], requires_grad=1, device=cpu) = onnx::Relu[onnx_name=\"/layers/layers.7/Relu\"](%/layers/layers.6/Conv_output_0), scope: models.OwnBaselineCNN.NeuralNetwork::/torch.nn.modules.container.Sequential::layers/torch.nn.modules.activation.ReLU::layers.7 # /home/yale1/miniconda3/envs/smart-cities/lib/python3.10/site-packages/torch/nn/functional.py:1453:0\n",
      "  %/layers/layers.8/MaxPool_output_0 : Float(1, 32, 26, 47, strides=[39104, 1222, 47, 1], requires_grad=1, device=cpu) = onnx::MaxPool[ceil_mode=0, kernel_shape=[2, 2], pads=[0, 0, 0, 0], strides=[2, 2], onnx_name=\"/layers/layers.8/MaxPool\"](%/layers/layers.7/Relu_output_0), scope: models.OwnBaselineCNN.NeuralNetwork::/torch.nn.modules.container.Sequential::layers/torch.nn.modules.pooling.MaxPool2d::layers.8 # /home/yale1/miniconda3/envs/smart-cities/lib/python3.10/site-packages/torch/nn/functional.py:780:0\n",
      "  %/layers/layers.9/Flatten_output_0 : Float(1, 39104, strides=[39104, 1], requires_grad=1, device=cpu) = onnx::Flatten[axis=1, onnx_name=\"/layers/layers.9/Flatten\"](%/layers/layers.8/MaxPool_output_0), scope: models.OwnBaselineCNN.NeuralNetwork::/torch.nn.modules.container.Sequential::layers/torch.nn.modules.flatten.Flatten::layers.9 # /home/yale1/miniconda3/envs/smart-cities/lib/python3.10/site-packages/torch/nn/modules/flatten.py:46:0\n",
      "  %/layers/layers.10/Gemm_output_0 : Float(1, 4096, strides=[4096, 1], requires_grad=1, device=cpu) = onnx::Gemm[alpha=1., beta=1., transB=1, onnx_name=\"/layers/layers.10/Gemm\"](%/layers/layers.9/Flatten_output_0, %layers.10.weight, %layers.10.bias), scope: models.OwnBaselineCNN.NeuralNetwork::/torch.nn.modules.container.Sequential::layers/torch.nn.modules.linear.Linear::layers.10 # /home/yale1/miniconda3/envs/smart-cities/lib/python3.10/site-packages/torch/nn/modules/linear.py:114:0\n",
      "  %/layers/layers.11/Relu_output_0 : Float(1, 4096, strides=[4096, 1], requires_grad=1, device=cpu) = onnx::Relu[onnx_name=\"/layers/layers.11/Relu\"](%/layers/layers.10/Gemm_output_0), scope: models.OwnBaselineCNN.NeuralNetwork::/torch.nn.modules.container.Sequential::layers/torch.nn.modules.activation.ReLU::layers.11 # /home/yale1/miniconda3/envs/smart-cities/lib/python3.10/site-packages/torch/nn/functional.py:1453:0\n",
      "  %/layers/layers.12/Gemm_output_0 : Float(1, 1024, strides=[1024, 1], requires_grad=1, device=cpu) = onnx::Gemm[alpha=1., beta=1., transB=1, onnx_name=\"/layers/layers.12/Gemm\"](%/layers/layers.11/Relu_output_0, %layers.12.weight, %layers.12.bias), scope: models.OwnBaselineCNN.NeuralNetwork::/torch.nn.modules.container.Sequential::layers/torch.nn.modules.linear.Linear::layers.12 # /home/yale1/miniconda3/envs/smart-cities/lib/python3.10/site-packages/torch/nn/modules/linear.py:114:0\n",
      "  %/layers/layers.13/Relu_output_0 : Float(1, 1024, strides=[1024, 1], requires_grad=1, device=cpu) = onnx::Relu[onnx_name=\"/layers/layers.13/Relu\"](%/layers/layers.12/Gemm_output_0), scope: models.OwnBaselineCNN.NeuralNetwork::/torch.nn.modules.container.Sequential::layers/torch.nn.modules.activation.ReLU::layers.13 # /home/yale1/miniconda3/envs/smart-cities/lib/python3.10/site-packages/torch/nn/functional.py:1453:0\n",
      "  %/layers/layers.14/Gemm_output_0 : Float(1, 512, strides=[512, 1], requires_grad=1, device=cpu) = onnx::Gemm[alpha=1., beta=1., transB=1, onnx_name=\"/layers/layers.14/Gemm\"](%/layers/layers.13/Relu_output_0, %layers.14.weight, %layers.14.bias), scope: models.OwnBaselineCNN.NeuralNetwork::/torch.nn.modules.container.Sequential::layers/torch.nn.modules.linear.Linear::layers.14 # /home/yale1/miniconda3/envs/smart-cities/lib/python3.10/site-packages/torch/nn/modules/linear.py:114:0\n",
      "  %/layers/layers.15/Relu_output_0 : Float(1, 512, strides=[512, 1], requires_grad=1, device=cpu) = onnx::Relu[onnx_name=\"/layers/layers.15/Relu\"](%/layers/layers.14/Gemm_output_0), scope: models.OwnBaselineCNN.NeuralNetwork::/torch.nn.modules.container.Sequential::layers/torch.nn.modules.activation.ReLU::layers.15 # /home/yale1/miniconda3/envs/smart-cities/lib/python3.10/site-packages/torch/nn/functional.py:1453:0\n",
      "  %output_0 : Float(1, 63, strides=[63, 1], requires_grad=1, device=cpu) = onnx::Gemm[alpha=1., beta=1., transB=1, onnx_name=\"/layers/layers.16/Gemm\"](%/layers/layers.15/Relu_output_0, %layers.16.weight, %layers.16.bias), scope: models.OwnBaselineCNN.NeuralNetwork::/torch.nn.modules.container.Sequential::layers/torch.nn.modules.linear.Linear::layers.16 # /home/yale1/miniconda3/envs/smart-cities/lib/python3.10/site-packages/torch/nn/modules/linear.py:114:0\n",
      "  return (%output_0)\n",
      "\n",
      "2024-04-12 13:47:39,236 - onnx2keras - INFO - Converter is called.\n"
     ]
    },
    {
     "name": "stderr",
     "output_type": "stream",
     "text": [
      "/home/yale1/miniconda3/envs/smart-cities/lib/python3.10/site-packages/keras/src/layers/core/input_layer.py:25: UserWarning: Argument `input_shape` is deprecated. Use `shape` instead.\n",
      "  warnings.warn(\n"
     ]
    },
    {
     "ename": "ValueError",
     "evalue": "Argument `name` must be a string and cannot contain character `/`. Received: name=/layers/layers.0/Conv_output_0_pad (of type <class 'str'>)",
     "output_type": "error",
     "traceback": [
      "\u001b[0;31m---------------------------------------------------------------------------\u001b[0m",
      "\u001b[0;31mValueError\u001b[0m                                Traceback (most recent call last)",
      "Cell \u001b[0;32mIn[8], line 1\u001b[0m\n\u001b[0;32m----> 1\u001b[0m \u001b[43mpytorch_to_keras\u001b[49m\u001b[43m(\u001b[49m\u001b[43mmodel\u001b[49m\u001b[43m,\u001b[49m\u001b[43m \u001b[49m\u001b[43mtorch\u001b[49m\u001b[38;5;241;43m.\u001b[39;49m\u001b[43mrandn\u001b[49m\u001b[43m(\u001b[49m\u001b[38;5;241;43m1\u001b[39;49m\u001b[43m,\u001b[49m\u001b[43m \u001b[49m\u001b[38;5;241;43m*\u001b[39;49m\u001b[43mshape\u001b[49m\u001b[43m)\u001b[49m\u001b[43m,\u001b[49m\u001b[43m \u001b[49m\u001b[43mverbose\u001b[49m\u001b[38;5;241;43m=\u001b[39;49m\u001b[38;5;28;43;01mTrue\u001b[39;49;00m\u001b[43m)\u001b[49m\n",
      "File \u001b[0;32m~/miniconda3/envs/smart-cities/lib/python3.10/site-packages/pytorch2keras/converter.py:81\u001b[0m, in \u001b[0;36mpytorch_to_keras\u001b[0;34m(model, args, input_shapes, change_ordering, verbose, name_policy, use_optimizer, do_constant_folding)\u001b[0m\n\u001b[1;32m     78\u001b[0m     logger\u001b[38;5;241m.\u001b[39minfo(\u001b[38;5;124m\"\u001b[39m\u001b[38;5;124mRunning optimizer:\u001b[39m\u001b[38;5;130;01m\\n\u001b[39;00m\u001b[38;5;132;01m%s\u001b[39;00m\u001b[38;5;124m\"\u001b[39m, \u001b[38;5;124m\"\u001b[39m\u001b[38;5;130;01m\\n\u001b[39;00m\u001b[38;5;124m\"\u001b[39m\u001b[38;5;241m.\u001b[39mjoin(optimizer2run))\n\u001b[1;32m     79\u001b[0m     onnx_model \u001b[38;5;241m=\u001b[39m optimizer\u001b[38;5;241m.\u001b[39moptimize(onnx_model, optimizer2run)\n\u001b[0;32m---> 81\u001b[0m k_model \u001b[38;5;241m=\u001b[39m \u001b[43monnx_to_keras\u001b[49m\u001b[43m(\u001b[49m\u001b[43monnx_model\u001b[49m\u001b[38;5;241;43m=\u001b[39;49m\u001b[43monnx_model\u001b[49m\u001b[43m,\u001b[49m\u001b[43m \u001b[49m\u001b[43minput_names\u001b[49m\u001b[38;5;241;43m=\u001b[39;49m\u001b[43minput_names\u001b[49m\u001b[43m,\u001b[49m\n\u001b[1;32m     82\u001b[0m \u001b[43m                        \u001b[49m\u001b[43minput_shapes\u001b[49m\u001b[38;5;241;43m=\u001b[39;49m\u001b[43minput_shapes\u001b[49m\u001b[43m,\u001b[49m\u001b[43m \u001b[49m\u001b[43mname_policy\u001b[49m\u001b[38;5;241;43m=\u001b[39;49m\u001b[43mname_policy\u001b[49m\u001b[43m,\u001b[49m\n\u001b[1;32m     83\u001b[0m \u001b[43m                        \u001b[49m\u001b[43mverbose\u001b[49m\u001b[38;5;241;43m=\u001b[39;49m\u001b[43mverbose\u001b[49m\u001b[43m,\u001b[49m\u001b[43m \u001b[49m\u001b[43mchange_ordering\u001b[49m\u001b[38;5;241;43m=\u001b[39;49m\u001b[43mchange_ordering\u001b[49m\u001b[43m)\u001b[49m\n\u001b[1;32m     85\u001b[0m \u001b[38;5;28;01mreturn\u001b[39;00m k_model\n",
      "File \u001b[0;32m~/miniconda3/envs/smart-cities/lib/python3.10/site-packages/onnx2keras/converter.py:175\u001b[0m, in \u001b[0;36monnx_to_keras\u001b[0;34m(onnx_model, input_names, input_shapes, name_policy, verbose, change_ordering)\u001b[0m\n\u001b[1;32m    172\u001b[0m     logger\u001b[38;5;241m.\u001b[39mdebug(\u001b[38;5;124m'\u001b[39m\u001b[38;5;124m... found all, continue\u001b[39m\u001b[38;5;124m'\u001b[39m)\n\u001b[1;32m    174\u001b[0m keras\u001b[38;5;241m.\u001b[39mbackend\u001b[38;5;241m.\u001b[39mset_image_data_format(\u001b[38;5;124m'\u001b[39m\u001b[38;5;124mchannels_first\u001b[39m\u001b[38;5;124m'\u001b[39m)\n\u001b[0;32m--> 175\u001b[0m \u001b[43mAVAILABLE_CONVERTERS\u001b[49m\u001b[43m[\u001b[49m\u001b[43mnode_type\u001b[49m\u001b[43m]\u001b[49m\u001b[43m(\u001b[49m\n\u001b[1;32m    176\u001b[0m \u001b[43m    \u001b[49m\u001b[43mnode\u001b[49m\u001b[43m,\u001b[49m\n\u001b[1;32m    177\u001b[0m \u001b[43m    \u001b[49m\u001b[43mnode_params\u001b[49m\u001b[43m,\u001b[49m\n\u001b[1;32m    178\u001b[0m \u001b[43m    \u001b[49m\u001b[43mlayers\u001b[49m\u001b[43m,\u001b[49m\n\u001b[1;32m    179\u001b[0m \u001b[43m    \u001b[49m\u001b[43mlambda_funcs\u001b[49m\u001b[43m,\u001b[49m\n\u001b[1;32m    180\u001b[0m \u001b[43m    \u001b[49m\u001b[43mnode_name\u001b[49m\u001b[43m,\u001b[49m\n\u001b[1;32m    181\u001b[0m \u001b[43m    \u001b[49m\u001b[43mkeras_names\u001b[49m\n\u001b[1;32m    182\u001b[0m \u001b[43m\u001b[49m\u001b[43m)\u001b[49m\n\u001b[1;32m    183\u001b[0m \u001b[38;5;28;01mif\u001b[39;00m \u001b[38;5;28misinstance\u001b[39m(keras_names, \u001b[38;5;28mlist\u001b[39m):\n\u001b[1;32m    184\u001b[0m     keras_names \u001b[38;5;241m=\u001b[39m keras_names[\u001b[38;5;241m0\u001b[39m]\n",
      "File \u001b[0;32m~/miniconda3/envs/smart-cities/lib/python3.10/site-packages/onnx2keras/convolution_layers.py:86\u001b[0m, in \u001b[0;36mconvert_conv\u001b[0;34m(node, params, layers, lambda_func, node_name, keras_name)\u001b[0m\n\u001b[1;32m     84\u001b[0m     logger\u001b[38;5;241m.\u001b[39mdebug(\u001b[38;5;124m'\u001b[39m\u001b[38;5;124mPaddings exist, add ZeroPadding layer\u001b[39m\u001b[38;5;124m'\u001b[39m)\n\u001b[1;32m     85\u001b[0m     padding_name \u001b[38;5;241m=\u001b[39m keras_name \u001b[38;5;241m+\u001b[39m \u001b[38;5;124m'\u001b[39m\u001b[38;5;124m_pad\u001b[39m\u001b[38;5;124m'\u001b[39m\n\u001b[0;32m---> 86\u001b[0m     padding_layer \u001b[38;5;241m=\u001b[39m \u001b[43mkeras\u001b[49m\u001b[38;5;241;43m.\u001b[39;49m\u001b[43mlayers\u001b[49m\u001b[38;5;241;43m.\u001b[39;49m\u001b[43mZeroPadding2D\u001b[49m\u001b[43m(\u001b[49m\n\u001b[1;32m     87\u001b[0m \u001b[43m        \u001b[49m\u001b[43mpadding\u001b[49m\u001b[38;5;241;43m=\u001b[39;49m\u001b[43mpadding\u001b[49m\u001b[43m,\u001b[49m\n\u001b[1;32m     88\u001b[0m \u001b[43m        \u001b[49m\u001b[43mname\u001b[49m\u001b[38;5;241;43m=\u001b[39;49m\u001b[43mpadding_name\u001b[49m\u001b[43m,\u001b[49m\n\u001b[1;32m     89\u001b[0m \u001b[43m        \u001b[49m\u001b[43mdata_format\u001b[49m\u001b[38;5;241;43m=\u001b[39;49m\u001b[38;5;124;43m'\u001b[39;49m\u001b[38;5;124;43mchannels_first\u001b[39;49m\u001b[38;5;124;43m'\u001b[39;49m\n\u001b[1;32m     90\u001b[0m \u001b[43m    \u001b[49m\u001b[43m)\u001b[49m\n\u001b[1;32m     91\u001b[0m     layers[padding_name] \u001b[38;5;241m=\u001b[39m input_0 \u001b[38;5;241m=\u001b[39m padding_layer(input_0)\n\u001b[1;32m     93\u001b[0m W \u001b[38;5;241m=\u001b[39m W\u001b[38;5;241m.\u001b[39mtranspose(\u001b[38;5;241m2\u001b[39m, \u001b[38;5;241m3\u001b[39m, \u001b[38;5;241m1\u001b[39m, \u001b[38;5;241m0\u001b[39m)\n",
      "File \u001b[0;32m~/miniconda3/envs/smart-cities/lib/python3.10/site-packages/keras/src/layers/reshaping/zero_padding2d.py:72\u001b[0m, in \u001b[0;36mZeroPadding2D.__init__\u001b[0;34m(self, padding, data_format, **kwargs)\u001b[0m\n\u001b[1;32m     71\u001b[0m \u001b[38;5;28;01mdef\u001b[39;00m \u001b[38;5;21m__init__\u001b[39m(\u001b[38;5;28mself\u001b[39m, padding\u001b[38;5;241m=\u001b[39m(\u001b[38;5;241m1\u001b[39m, \u001b[38;5;241m1\u001b[39m), data_format\u001b[38;5;241m=\u001b[39m\u001b[38;5;28;01mNone\u001b[39;00m, \u001b[38;5;241m*\u001b[39m\u001b[38;5;241m*\u001b[39mkwargs):\n\u001b[0;32m---> 72\u001b[0m     \u001b[38;5;28;43msuper\u001b[39;49m\u001b[43m(\u001b[49m\u001b[43m)\u001b[49m\u001b[38;5;241;43m.\u001b[39;49m\u001b[38;5;21;43m__init__\u001b[39;49m\u001b[43m(\u001b[49m\u001b[38;5;241;43m*\u001b[39;49m\u001b[38;5;241;43m*\u001b[39;49m\u001b[43mkwargs\u001b[49m\u001b[43m)\u001b[49m\n\u001b[1;32m     73\u001b[0m     \u001b[38;5;28mself\u001b[39m\u001b[38;5;241m.\u001b[39mdata_format \u001b[38;5;241m=\u001b[39m backend\u001b[38;5;241m.\u001b[39mstandardize_data_format(data_format)\n\u001b[1;32m     74\u001b[0m     \u001b[38;5;28;01mif\u001b[39;00m \u001b[38;5;28misinstance\u001b[39m(padding, \u001b[38;5;28mint\u001b[39m):\n",
      "File \u001b[0;32m~/miniconda3/envs/smart-cities/lib/python3.10/site-packages/keras/src/layers/layer.py:246\u001b[0m, in \u001b[0;36mLayer.__init__\u001b[0;34m(self, activity_regularizer, trainable, dtype, autocast, name, **kwargs)\u001b[0m\n\u001b[1;32m    244\u001b[0m BackendLayer\u001b[38;5;241m.\u001b[39m\u001b[38;5;21m__init__\u001b[39m(\u001b[38;5;28mself\u001b[39m)\n\u001b[1;32m    245\u001b[0m \u001b[38;5;28mself\u001b[39m\u001b[38;5;241m.\u001b[39m_lock \u001b[38;5;241m=\u001b[39m \u001b[38;5;28;01mFalse\u001b[39;00m\n\u001b[0;32m--> 246\u001b[0m \u001b[43mOperation\u001b[49m\u001b[38;5;241;43m.\u001b[39;49m\u001b[38;5;21;43m__init__\u001b[39;49m\u001b[43m(\u001b[49m\u001b[38;5;28;43mself\u001b[39;49m\u001b[43m,\u001b[49m\u001b[43m \u001b[49m\u001b[43mdtype\u001b[49m\u001b[38;5;241;43m=\u001b[39;49m\u001b[43mdtype\u001b[49m\u001b[43m,\u001b[49m\u001b[43m \u001b[49m\u001b[43mname\u001b[49m\u001b[38;5;241;43m=\u001b[39;49m\u001b[43mname\u001b[49m\u001b[43m)\u001b[49m\n\u001b[1;32m    247\u001b[0m \u001b[38;5;28mself\u001b[39m\u001b[38;5;241m.\u001b[39mactivity_regularizer \u001b[38;5;241m=\u001b[39m regularizers\u001b[38;5;241m.\u001b[39mget(activity_regularizer)\n\u001b[1;32m    248\u001b[0m input_dim_arg \u001b[38;5;241m=\u001b[39m kwargs\u001b[38;5;241m.\u001b[39mpop(\u001b[38;5;124m\"\u001b[39m\u001b[38;5;124minput_dim\u001b[39m\u001b[38;5;124m\"\u001b[39m, \u001b[38;5;28;01mNone\u001b[39;00m)\n",
      "File \u001b[0;32m~/miniconda3/envs/smart-cities/lib/python3.10/site-packages/keras/src/ops/operation.py:21\u001b[0m, in \u001b[0;36mOperation.__init__\u001b[0;34m(self, dtype, name)\u001b[0m\n\u001b[1;32m     19\u001b[0m     name \u001b[38;5;241m=\u001b[39m auto_name(\u001b[38;5;28mself\u001b[39m\u001b[38;5;241m.\u001b[39m\u001b[38;5;18m__class__\u001b[39m\u001b[38;5;241m.\u001b[39m\u001b[38;5;18m__name__\u001b[39m)\n\u001b[1;32m     20\u001b[0m \u001b[38;5;28;01mif\u001b[39;00m \u001b[38;5;129;01mnot\u001b[39;00m \u001b[38;5;28misinstance\u001b[39m(name, \u001b[38;5;28mstr\u001b[39m) \u001b[38;5;129;01mor\u001b[39;00m \u001b[38;5;124m\"\u001b[39m\u001b[38;5;124m/\u001b[39m\u001b[38;5;124m\"\u001b[39m \u001b[38;5;129;01min\u001b[39;00m name:\n\u001b[0;32m---> 21\u001b[0m     \u001b[38;5;28;01mraise\u001b[39;00m \u001b[38;5;167;01mValueError\u001b[39;00m(\n\u001b[1;32m     22\u001b[0m         \u001b[38;5;124m\"\u001b[39m\u001b[38;5;124mArgument `name` must be a string and \u001b[39m\u001b[38;5;124m\"\u001b[39m\n\u001b[1;32m     23\u001b[0m         \u001b[38;5;124m\"\u001b[39m\u001b[38;5;124mcannot contain character `/`. \u001b[39m\u001b[38;5;124m\"\u001b[39m\n\u001b[1;32m     24\u001b[0m         \u001b[38;5;124mf\u001b[39m\u001b[38;5;124m\"\u001b[39m\u001b[38;5;124mReceived: name=\u001b[39m\u001b[38;5;132;01m{\u001b[39;00mname\u001b[38;5;132;01m}\u001b[39;00m\u001b[38;5;124m (of type \u001b[39m\u001b[38;5;132;01m{\u001b[39;00m\u001b[38;5;28mtype\u001b[39m(name)\u001b[38;5;132;01m}\u001b[39;00m\u001b[38;5;124m)\u001b[39m\u001b[38;5;124m\"\u001b[39m\n\u001b[1;32m     25\u001b[0m     )\n\u001b[1;32m     26\u001b[0m \u001b[38;5;28mself\u001b[39m\u001b[38;5;241m.\u001b[39mdtype_policy \u001b[38;5;241m=\u001b[39m dtype_policies\u001b[38;5;241m.\u001b[39mget(dtype)\n\u001b[1;32m     27\u001b[0m \u001b[38;5;28mself\u001b[39m\u001b[38;5;241m.\u001b[39mname \u001b[38;5;241m=\u001b[39m name\n",
      "\u001b[0;31mValueError\u001b[0m: Argument `name` must be a string and cannot contain character `/`. Received: name=/layers/layers.0/Conv_output_0_pad (of type <class 'str'>)"
     ]
    },
    {
     "ename": "",
     "evalue": "",
     "output_type": "error",
     "traceback": [
      "\u001b[1;31mThe Kernel crashed while executing code in the current cell or a previous cell. \n",
      "\u001b[1;31mPlease review the code in the cell(s) to identify a possible cause of the failure. \n",
      "\u001b[1;31mClick <a href='https://aka.ms/vscodeJupyterKernelCrash'>here</a> for more info. \n",
      "\u001b[1;31mView Jupyter <a href='command:jupyter.viewOutput'>log</a> for further details."
     ]
    }
   ],
   "source": [
    "pytorch_to_keras(model, torch.randn(1, *shape), verbose=True)"
   ]
  }
 ],
 "metadata": {
  "kernelspec": {
   "display_name": "Python 3 (ipykernel)",
   "language": "python",
   "name": "python3"
  },
  "language_info": {
   "codemirror_mode": {
    "name": "ipython",
    "version": 3
   },
   "file_extension": ".py",
   "mimetype": "text/x-python",
   "name": "python",
   "nbconvert_exporter": "python",
   "pygments_lexer": "ipython3",
   "version": "3.10.14"
  }
 },
 "nbformat": 4,
 "nbformat_minor": 1
}
